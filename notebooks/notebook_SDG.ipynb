{
 "cells": [
  {
   "cell_type": "markdown",
   "metadata": {},
   "source": [
    "### 0. Load libraries"
   ]
  },
  {
   "cell_type": "code",
   "execution_count": 1,
   "metadata": {},
   "outputs": [],
   "source": [
    "import numpy as np\n",
    "import pandas as pd\n",
    "import matplotlib.pyplot as plt\n",
    "import seaborn as sns\n",
    "from helper_functions_SDG import *"
   ]
  },
  {
   "cell_type": "markdown",
   "metadata": {},
   "source": [
    "### 1. Load data"
   ]
  },
  {
   "cell_type": "code",
   "execution_count": 2,
   "metadata": {},
   "outputs": [
    {
     "name": "stdout",
     "output_type": "stream",
     "text": [
      "(22407, 39)\n",
      "Index(['decile1b', 'decile3', 'ID', 'decile1', 'sex', 'race', 'cluster',\n",
      "       'lsat', 'ugpa', 'zfygpa', 'DOB_yr', 'grad', 'zgpa', 'bar1', 'bar1_yr',\n",
      "       'bar2', 'bar2_yr', 'fulltime', 'fam_inc', 'age', 'gender', 'parttime',\n",
      "       'male', 'race1', 'race2', 'Dropout', 'other', 'asian', 'black', 'hisp',\n",
      "       'pass_bar', 'bar', 'bar_passed', 'tier', 'index6040', 'indxgrp',\n",
      "       'indxgrp2', 'dnn_bar_pass_prediction', 'gpa'],\n",
      "      dtype='object')\n",
      "decile1b                   1604\n",
      "decile3                    1604\n",
      "ID                            0\n",
      "decile1                    1092\n",
      "sex                           5\n",
      "race                         16\n",
      "cluster                      96\n",
      "lsat                          0\n",
      "ugpa                          0\n",
      "zfygpa                      984\n",
      "DOB_yr                       50\n",
      "grad                          3\n",
      "zgpa                       1289\n",
      "bar1                          0\n",
      "bar1_yr                      39\n",
      "bar2                          0\n",
      "bar2_yr                      40\n",
      "fulltime                     34\n",
      "fam_inc                     289\n",
      "age                          89\n",
      "gender                        5\n",
      "parttime                     34\n",
      "male                          5\n",
      "race1                        16\n",
      "race2                        16\n",
      "Dropout                       0\n",
      "other                         0\n",
      "asian                         0\n",
      "black                         0\n",
      "hisp                          0\n",
      "pass_bar                      0\n",
      "bar                           0\n",
      "bar_passed                    0\n",
      "tier                         96\n",
      "index6040                     0\n",
      "indxgrp                       0\n",
      "indxgrp2                      0\n",
      "dnn_bar_pass_prediction       0\n",
      "gpa                           0\n",
      "dtype: int64\n"
     ]
    },
    {
     "data": {
      "text/html": [
       "<div>\n",
       "<style scoped>\n",
       "    .dataframe tbody tr th:only-of-type {\n",
       "        vertical-align: middle;\n",
       "    }\n",
       "\n",
       "    .dataframe tbody tr th {\n",
       "        vertical-align: top;\n",
       "    }\n",
       "\n",
       "    .dataframe thead th {\n",
       "        text-align: right;\n",
       "    }\n",
       "</style>\n",
       "<table border=\"1\" class=\"dataframe\">\n",
       "  <thead>\n",
       "    <tr style=\"text-align: right;\">\n",
       "      <th></th>\n",
       "      <th>decile1b</th>\n",
       "      <th>decile3</th>\n",
       "      <th>ID</th>\n",
       "      <th>decile1</th>\n",
       "      <th>sex</th>\n",
       "      <th>race</th>\n",
       "      <th>cluster</th>\n",
       "      <th>lsat</th>\n",
       "      <th>ugpa</th>\n",
       "      <th>zfygpa</th>\n",
       "      <th>...</th>\n",
       "      <th>hisp</th>\n",
       "      <th>pass_bar</th>\n",
       "      <th>bar</th>\n",
       "      <th>bar_passed</th>\n",
       "      <th>tier</th>\n",
       "      <th>index6040</th>\n",
       "      <th>indxgrp</th>\n",
       "      <th>indxgrp2</th>\n",
       "      <th>dnn_bar_pass_prediction</th>\n",
       "      <th>gpa</th>\n",
       "    </tr>\n",
       "  </thead>\n",
       "  <tbody>\n",
       "    <tr>\n",
       "      <th>0</th>\n",
       "      <td>10.0</td>\n",
       "      <td>10.0</td>\n",
       "      <td>2</td>\n",
       "      <td>10.0</td>\n",
       "      <td>1.0</td>\n",
       "      <td>7.0</td>\n",
       "      <td>1.0</td>\n",
       "      <td>44.0</td>\n",
       "      <td>3.5</td>\n",
       "      <td>1.33</td>\n",
       "      <td>...</td>\n",
       "      <td>0</td>\n",
       "      <td>1</td>\n",
       "      <td>a Passed 1st time</td>\n",
       "      <td>True</td>\n",
       "      <td>4.0</td>\n",
       "      <td>886.842082</td>\n",
       "      <td>g 700+</td>\n",
       "      <td>i 820+</td>\n",
       "      <td>0.979804</td>\n",
       "      <td>3.5</td>\n",
       "    </tr>\n",
       "    <tr>\n",
       "      <th>1</th>\n",
       "      <td>5.0</td>\n",
       "      <td>4.0</td>\n",
       "      <td>3</td>\n",
       "      <td>5.0</td>\n",
       "      <td>1.0</td>\n",
       "      <td>7.0</td>\n",
       "      <td>2.0</td>\n",
       "      <td>29.0</td>\n",
       "      <td>3.5</td>\n",
       "      <td>-0.11</td>\n",
       "      <td>...</td>\n",
       "      <td>0</td>\n",
       "      <td>1</td>\n",
       "      <td>a Passed 1st time</td>\n",
       "      <td>True</td>\n",
       "      <td>2.0</td>\n",
       "      <td>649.999987</td>\n",
       "      <td>f 640-700</td>\n",
       "      <td>f 640-700</td>\n",
       "      <td>0.979804</td>\n",
       "      <td>3.5</td>\n",
       "    </tr>\n",
       "    <tr>\n",
       "      <th>2</th>\n",
       "      <td>3.0</td>\n",
       "      <td>2.0</td>\n",
       "      <td>36</td>\n",
       "      <td>3.0</td>\n",
       "      <td>2.0</td>\n",
       "      <td>7.0</td>\n",
       "      <td>3.0</td>\n",
       "      <td>36.0</td>\n",
       "      <td>3.5</td>\n",
       "      <td>-0.64</td>\n",
       "      <td>...</td>\n",
       "      <td>0</td>\n",
       "      <td>1</td>\n",
       "      <td>a Passed 1st time</td>\n",
       "      <td>True</td>\n",
       "      <td>3.0</td>\n",
       "      <td>760.526298</td>\n",
       "      <td>g 700+</td>\n",
       "      <td>h 760-820</td>\n",
       "      <td>0.979804</td>\n",
       "      <td>3.5</td>\n",
       "    </tr>\n",
       "    <tr>\n",
       "      <th>3</th>\n",
       "      <td>7.0</td>\n",
       "      <td>4.0</td>\n",
       "      <td>52</td>\n",
       "      <td>7.0</td>\n",
       "      <td>2.0</td>\n",
       "      <td>7.0</td>\n",
       "      <td>3.0</td>\n",
       "      <td>39.0</td>\n",
       "      <td>3.5</td>\n",
       "      <td>0.34</td>\n",
       "      <td>...</td>\n",
       "      <td>0</td>\n",
       "      <td>1</td>\n",
       "      <td>a Passed 1st time</td>\n",
       "      <td>True</td>\n",
       "      <td>3.0</td>\n",
       "      <td>807.894717</td>\n",
       "      <td>g 700+</td>\n",
       "      <td>h 760-820</td>\n",
       "      <td>0.979804</td>\n",
       "      <td>3.5</td>\n",
       "    </tr>\n",
       "    <tr>\n",
       "      <th>4</th>\n",
       "      <td>9.0</td>\n",
       "      <td>8.0</td>\n",
       "      <td>55</td>\n",
       "      <td>9.0</td>\n",
       "      <td>2.0</td>\n",
       "      <td>7.0</td>\n",
       "      <td>4.0</td>\n",
       "      <td>48.0</td>\n",
       "      <td>3.5</td>\n",
       "      <td>1.02</td>\n",
       "      <td>...</td>\n",
       "      <td>0</td>\n",
       "      <td>1</td>\n",
       "      <td>a Passed 1st time</td>\n",
       "      <td>True</td>\n",
       "      <td>5.0</td>\n",
       "      <td>949.999974</td>\n",
       "      <td>g 700+</td>\n",
       "      <td>i 820+</td>\n",
       "      <td>0.979804</td>\n",
       "      <td>3.5</td>\n",
       "    </tr>\n",
       "  </tbody>\n",
       "</table>\n",
       "<p>5 rows × 39 columns</p>\n",
       "</div>"
      ],
      "text/plain": [
       "   decile1b  decile3  ID  decile1  sex  race  cluster  lsat  ugpa  zfygpa  \\\n",
       "0      10.0     10.0   2     10.0  1.0   7.0      1.0  44.0   3.5    1.33   \n",
       "1       5.0      4.0   3      5.0  1.0   7.0      2.0  29.0   3.5   -0.11   \n",
       "2       3.0      2.0  36      3.0  2.0   7.0      3.0  36.0   3.5   -0.64   \n",
       "3       7.0      4.0  52      7.0  2.0   7.0      3.0  39.0   3.5    0.34   \n",
       "4       9.0      8.0  55      9.0  2.0   7.0      4.0  48.0   3.5    1.02   \n",
       "\n",
       "   ...  hisp pass_bar                bar bar_passed  tier   index6040  \\\n",
       "0  ...     0        1  a Passed 1st time       True   4.0  886.842082   \n",
       "1  ...     0        1  a Passed 1st time       True   2.0  649.999987   \n",
       "2  ...     0        1  a Passed 1st time       True   3.0  760.526298   \n",
       "3  ...     0        1  a Passed 1st time       True   3.0  807.894717   \n",
       "4  ...     0        1  a Passed 1st time       True   5.0  949.999974   \n",
       "\n",
       "     indxgrp   indxgrp2  dnn_bar_pass_prediction  gpa  \n",
       "0     g 700+     i 820+                 0.979804  3.5  \n",
       "1  f 640-700  f 640-700                 0.979804  3.5  \n",
       "2     g 700+  h 760-820                 0.979804  3.5  \n",
       "3     g 700+  h 760-820                 0.979804  3.5  \n",
       "4     g 700+     i 820+                 0.979804  3.5  \n",
       "\n",
       "[5 rows x 39 columns]"
      ]
     },
     "metadata": {},
     "output_type": "display_data"
    }
   ],
   "source": [
    "admissions_df = pd.read_csv('./data/bar_pass_prediction.csv')\n",
    "print(admissions_df.shape)\n",
    "print(admissions_df.columns)\n",
    "print(admissions_df.isnull().sum())\n",
    "display(admissions_df.head())"
   ]
  },
  {
   "cell_type": "markdown",
   "metadata": {},
   "source": [
    "### 2. Data cleaning\n",
    "For a minimal working example of generating synthetic data, we will only look at the following variables:\n",
    "\n",
    "- race - Categorizes students by race. Of all the race variables this was the most complete, so it’s the one I kept. All the information contained in the other race variables are contained in race1.\n",
    "- sex - student gender\n",
    "- gpa - grade point average (GPA), sum of all your course grades throughout your high school career divided by the total number of credits"
   ]
  },
  {
   "cell_type": "code",
   "execution_count": 3,
   "metadata": {},
   "outputs": [],
   "source": [
    "admissions_sub = admissions_df[['sex', 'race', 'gpa']]\n"
   ]
  },
  {
   "cell_type": "code",
   "execution_count": 4,
   "metadata": {},
   "outputs": [
    {
     "name": "stdout",
     "output_type": "stream",
     "text": [
      "(22387, 3)\n",
      "sex     0\n",
      "race    0\n",
      "gpa     0\n",
      "dtype: int64\n"
     ]
    }
   ],
   "source": [
    "# Remove all rows with missing values\n",
    "real_data = admissions_sub.dropna()\n",
    "print(real_data.shape)\n",
    "print(real_data.isnull().sum())"
   ]
  },
  {
   "cell_type": "code",
   "execution_count": 5,
   "metadata": {},
   "outputs": [
    {
     "data": {
      "text/html": [
       "<div>\n",
       "<style scoped>\n",
       "    .dataframe tbody tr th:only-of-type {\n",
       "        vertical-align: middle;\n",
       "    }\n",
       "\n",
       "    .dataframe tbody tr th {\n",
       "        vertical-align: top;\n",
       "    }\n",
       "\n",
       "    .dataframe thead th {\n",
       "        text-align: right;\n",
       "    }\n",
       "</style>\n",
       "<table border=\"1\" class=\"dataframe\">\n",
       "  <thead>\n",
       "    <tr style=\"text-align: right;\">\n",
       "      <th></th>\n",
       "      <th>sex</th>\n",
       "      <th>race</th>\n",
       "      <th>gpa</th>\n",
       "    </tr>\n",
       "  </thead>\n",
       "  <tbody>\n",
       "    <tr>\n",
       "      <th>0</th>\n",
       "      <td>1.0</td>\n",
       "      <td>7.0</td>\n",
       "      <td>3.5</td>\n",
       "    </tr>\n",
       "    <tr>\n",
       "      <th>1</th>\n",
       "      <td>1.0</td>\n",
       "      <td>7.0</td>\n",
       "      <td>3.5</td>\n",
       "    </tr>\n",
       "    <tr>\n",
       "      <th>2</th>\n",
       "      <td>2.0</td>\n",
       "      <td>7.0</td>\n",
       "      <td>3.5</td>\n",
       "    </tr>\n",
       "    <tr>\n",
       "      <th>3</th>\n",
       "      <td>2.0</td>\n",
       "      <td>7.0</td>\n",
       "      <td>3.5</td>\n",
       "    </tr>\n",
       "    <tr>\n",
       "      <th>4</th>\n",
       "      <td>2.0</td>\n",
       "      <td>7.0</td>\n",
       "      <td>3.5</td>\n",
       "    </tr>\n",
       "    <tr>\n",
       "      <th>...</th>\n",
       "      <td>...</td>\n",
       "      <td>...</td>\n",
       "      <td>...</td>\n",
       "    </tr>\n",
       "    <tr>\n",
       "      <th>22402</th>\n",
       "      <td>2.0</td>\n",
       "      <td>3.0</td>\n",
       "      <td>1.8</td>\n",
       "    </tr>\n",
       "    <tr>\n",
       "      <th>22403</th>\n",
       "      <td>2.0</td>\n",
       "      <td>3.0</td>\n",
       "      <td>1.8</td>\n",
       "    </tr>\n",
       "    <tr>\n",
       "      <th>22404</th>\n",
       "      <td>2.0</td>\n",
       "      <td>3.0</td>\n",
       "      <td>1.8</td>\n",
       "    </tr>\n",
       "    <tr>\n",
       "      <th>22405</th>\n",
       "      <td>2.0</td>\n",
       "      <td>7.0</td>\n",
       "      <td>1.5</td>\n",
       "    </tr>\n",
       "    <tr>\n",
       "      <th>22406</th>\n",
       "      <td>2.0</td>\n",
       "      <td>7.0</td>\n",
       "      <td>1.6</td>\n",
       "    </tr>\n",
       "  </tbody>\n",
       "</table>\n",
       "<p>22387 rows × 3 columns</p>\n",
       "</div>"
      ],
      "text/plain": [
       "       sex  race  gpa\n",
       "0      1.0   7.0  3.5\n",
       "1      1.0   7.0  3.5\n",
       "2      2.0   7.0  3.5\n",
       "3      2.0   7.0  3.5\n",
       "4      2.0   7.0  3.5\n",
       "...    ...   ...  ...\n",
       "22402  2.0   3.0  1.8\n",
       "22403  2.0   3.0  1.8\n",
       "22404  2.0   3.0  1.8\n",
       "22405  2.0   7.0  1.5\n",
       "22406  2.0   7.0  1.6\n",
       "\n",
       "[22387 rows x 3 columns]"
      ]
     },
     "execution_count": 5,
     "metadata": {},
     "output_type": "execute_result"
    }
   ],
   "source": [
    "real_data"
   ]
  },
  {
   "cell_type": "markdown",
   "metadata": {},
   "source": [
    "### 3. Explanatory data analysis"
   ]
  },
  {
   "cell_type": "code",
   "execution_count": 6,
   "metadata": {},
   "outputs": [],
   "source": [
    "# Select only the categorical columns\n",
    "categorical_columns = real_data.select_dtypes(include=['object'])\n",
    "\n",
    "# Loop through each categorical column and print value counts\n",
    "for column in categorical_columns.columns:\n",
    "    print(f\"Value counts for column '{column}':\")\n",
    "    print(admissions_sub_cleaned[column].value_counts())\n",
    "    print()"
   ]
  },
  {
   "cell_type": "markdown",
   "metadata": {},
   "source": [
    "#### Correlation plot"
   ]
  },
  {
   "cell_type": "code",
   "execution_count": 7,
   "metadata": {},
   "outputs": [
    {
     "data": {
      "image/png": "[encoded data removed]",
      "text/plain": [
       "<Figure size 2000x2000 with 2 Axes>"
      ]
     },
     "metadata": {},
     "output_type": "display_data"
    }
   ],
   "source": [
    "f,ax = plt.subplots(figsize=(20, 20))\n",
    "sns.heatmap(real_data.corr(numeric_only=True), annot=True, linewidths=.5, fmt= '.2f',ax=ax)\n",
    "plt.show()"
   ]
  },
  {
   "cell_type": "code",
   "execution_count": 8,
   "metadata": {},
   "outputs": [
    {
     "data": {
      "text/plain": [
       "sex     float64\n",
       "race    float64\n",
       "gpa     float64\n",
       "dtype: object"
      ]
     },
     "execution_count": 8,
     "metadata": {},
     "output_type": "execute_result"
    }
   ],
   "source": [
    "real_data.dtypes"
   ]
  },
  {
   "cell_type": "code",
   "execution_count": 9,
   "metadata": {},
   "outputs": [
    {
     "name": "stderr",
     "output_type": "stream",
     "text": [
      "/var/folders/v8/64zc34sn3b95klfm660085h80000gn/T/ipykernel_73994/1213183297.py:5: SettingWithCopyWarning: \n",
      "A value is trying to be set on a copy of a slice from a DataFrame.\n",
      "Try using .loc[row_indexer,col_indexer] = value instead\n",
      "\n",
      "See the caveats in the documentation: https://pandas.pydata.org/pandas-docs/stable/user_guide/indexing.html#returning-a-view-versus-a-copy\n",
      "  real_data[update_categorical_columns] = real_data[update_categorical_columns].astype('category')\n"
     ]
    }
   ],
   "source": [
    "# Define columns to change their data types to categorical\n",
    "update_categorical_columns = ['sex', 'race']\n",
    "\n",
    "# Change data types of categorical columns\n",
    "real_data[update_categorical_columns] = real_data[update_categorical_columns].astype('category')\n"
   ]
  },
  {
   "cell_type": "code",
   "execution_count": 10,
   "metadata": {},
   "outputs": [
    {
     "data": {
      "text/plain": [
       "sex     category\n",
       "race    category\n",
       "gpa      float64\n",
       "dtype: object"
      ]
     },
     "execution_count": 10,
     "metadata": {},
     "output_type": "execute_result"
    }
   ],
   "source": [
    "real_data.dtypes"
   ]
  },
  {
   "cell_type": "code",
   "execution_count": 11,
   "metadata": {},
   "outputs": [
    {
     "data": {
      "image/png": "[encoded data removed]",
      "text/plain": [
       "<Figure size 800x500 with 1 Axes>"
      ]
     },
     "metadata": {},
     "output_type": "display_data"
    },
    {
     "data": {
      "image/png": "[encoded data removed]",
      "text/plain": [
       "<Figure size 800x500 with 1 Axes>"
      ]
     },
     "metadata": {},
     "output_type": "display_data"
    },
    {
     "data": {
      "image/png": "[encoded data removed]",
      "text/plain": [
       "<Figure size 800x500 with 1 Axes>"
      ]
     },
     "metadata": {},
     "output_type": "display_data"
    }
   ],
   "source": [
    "# Select numerical columns\n",
    "numerical_columns = ['gpa']\n",
    "\n",
    "# Select categorical or boolean columns\n",
    "categorical_columns = ['sex', 'race']\n",
    "\n",
    "# Plot histograms for numerical columns\n",
    "for column in numerical_columns:\n",
    "    plt.figure(figsize=(8, 5))\n",
    "    sns.histplot(real_data[column].dropna(), kde=True)\n",
    "    plt.title(f'Histogram of {column}')\n",
    "    plt.xlabel(column)\n",
    "    plt.ylabel('Frequency')\n",
    "    plt.show()\n",
    "\n",
    "# Plot countplots for categorical or boolean columns\n",
    "for column in categorical_columns:\n",
    "    plt.figure(figsize=(8, 5))\n",
    "    if column == 'bar_passed':  # Special handling for boolean column\n",
    "        sns.countplot(x=column, data=real_data)\n",
    "    else:\n",
    "        sns.countplot(x=column, data=real_data, order=real_data[column].value_counts().index)\n",
    "    plt.title(f'Countplot of {column}')\n",
    "    plt.xlabel(column)\n",
    "    plt.ylabel('Count')\n",
    "    plt.xticks(rotation=45)  # Rotate x-axis labels for better readability\n",
    "    plt.show()"
   ]
  },
  {
   "cell_type": "markdown",
   "metadata": {},
   "source": [
    "### 4. Gaussian Copula\n",
    "A copula is a multivariate CDF, with uniform distributed marginals. This means that it encapsulates the joint distribution of the data. Our goal in using a copula for synthetic data generation, is to understand the joint distribution of the data and then generate samples from that joint distribution.\n",
    "\n",
    "The copula does not assume a specific form for the marginal distributions of each column, and allows us to seperate the estimation of the marginal distributions from that of the joint distribution. It works in two steps:\n",
    "\n",
    "In a first step, the marginal distribution of each column is estimated, by using a Gaussian kernel density function (gaussian_kde). The samples are then transformed to a uniform distribution by using the probability integral transformation.\n",
    "In a second step, a joint Gaussian distribution is fitted on the (pseudo) transformed samples.\n",
    "By using a Gaussian copula, we are making some assumptions about the dependence structure of the data. In particular, regarding tail dependence, and how likely it is to have extreme values for the numeric variables happen at the same time.\n",
    "\n",
    "Produce the synthetic data using a Gaussian Coupola"
   ]
  },
  {
   "cell_type": "markdown",
   "metadata": {},
   "source": [
    "#### 4.1 Produce synthetic data using a gaussian copula"
   ]
  },
  {
   "cell_type": "code",
   "execution_count": 12,
   "metadata": {},
   "outputs": [
    {
     "data": {
      "text/plain": [
       "['sex', 'race', 'gpa']"
      ]
     },
     "execution_count": 12,
     "metadata": {},
     "output_type": "execute_result"
    }
   ],
   "source": [
    "real_data.columns.to_list()"
   ]
  },
  {
   "cell_type": "code",
   "execution_count": 13,
   "metadata": {},
   "outputs": [],
   "source": [
    "# Initialize synthesizer and fit it to the data\n",
    "synthesizer = GaussianCopulaSynthesizer()\n",
    "synthesizer.fit(real_data)"
   ]
  },
  {
   "cell_type": "code",
   "execution_count": 14,
   "metadata": {},
   "outputs": [
    {
     "name": "stdout",
     "output_type": "stream",
     "text": [
      "Original Data (first 5 rows):\n",
      "    sex race  gpa\n",
      "0  1.0  7.0  3.5\n",
      "1  1.0  7.0  3.5\n",
      "2  2.0  7.0  3.5\n",
      "3  2.0  7.0  3.5\n",
      "4  2.0  7.0  3.5\n",
      "\n",
      "Synthetic Data (first 5 rows):\n",
      "    sex  race  gpa\n",
      "0  2.0   7.0  3.3\n",
      "1  2.0   7.0  2.6\n",
      "2  1.0   7.0  3.2\n",
      "3  2.0   7.0  3.0\n",
      "4  2.0   7.0  3.3\n"
     ]
    }
   ],
   "source": [
    "# Generate synthetic data\n",
    "synthetic_data = synthesizer.sample(1000)\n",
    "\n",
    "# Output some results\n",
    "print(\"Original Data (first 5 rows):\\n\", real_data.head())\n",
    "print(\"\\nSynthetic Data (first 5 rows):\\n\", synthetic_data.head())"
   ]
  },
  {
   "cell_type": "markdown",
   "metadata": {},
   "source": [
    "### 5. Evaluating produced synthetic data "
   ]
  },
  {
   "cell_type": "code",
   "execution_count": 15,
   "metadata": {},
   "outputs": [
    {
     "data": {
      "text/plain": [
       "{'distribution_results': {'sex': {'ks_stat': 0.013736766873632011,\n",
       "   'p_value': 0.9925848085333805},\n",
       "  'race': {'ks_stat': 0.07457846071380712, 'p_value': 4.4816365990790774e-05},\n",
       "  'gpa': {'ks_stat': 0.027463527940322585, 'p_value': 0.4578604664040681}},\n",
       " 'correlation_diff': 0.03258677504045406}"
      ]
     },
     "execution_count": 15,
     "metadata": {},
     "output_type": "execute_result"
    }
   ],
   "source": [
    "run_diagnostic(real_data, synthetic_data, target_column='gpa')"
   ]
  },
  {
   "cell_type": "markdown",
   "metadata": {},
   "source": [
    "For numerical columns, The KSComplement returns 1-(KS statistics) where the Kolmogorov Smirnov (KS) statistic is the maximal difference between the CDF of the variable in the original and the synthetic data. A value close to 1 represents a better fit.\n",
    "\n",
    "For categorical columns, The TVComplement returns 1 - (TV Distance), where the Total Variation Distance measures the relative frequencies of the categories of a given variable in the original and the synthetic data. A value close to 1 represents a better fit"
   ]
  }
 ],
 "metadata": {
  "kernelspec": {
   "display_name": "AlgorithmAudit",
   "language": "python",
   "name": "python3"
  },
  "language_info": {
   "codemirror_mode": {
    "name": "ipython",
    "version": 3
   },
   "file_extension": ".py",
   "mimetype": "text/x-python",
   "name": "python",
   "nbconvert_exporter": "python",
   "pygments_lexer": "ipython3",
   "version": "3.11.9"
  }
 },
 "nbformat": 4,
 "nbformat_minor": 2
}
