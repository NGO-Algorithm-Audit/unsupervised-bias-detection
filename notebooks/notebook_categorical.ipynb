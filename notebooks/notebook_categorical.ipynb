{
 "cells": [
  {
   "cell_type": "markdown",
   "metadata": {},
   "source": [
    "## Description of notebook"
   ]
  },
  {
   "cell_type": "markdown",
   "metadata": {},
   "source": [
    "In this notebook, an usupervised bias detection tool is applied on synthetic data of the CUB process from 2014. The synthetic dataset (n=20.000) reflects group level characteristics of students that were registered to receive a college grant on 01-02-2014 by the Dutch Executive Education Agency (DUO). A clustering algorithm is applied to identify groups of similar students that are treated differently."
   ]
  },
  {
   "cell_type": "markdown",
   "metadata": {},
   "source": [
    "## Table of contents"
   ]
  },
  {
   "cell_type": "markdown",
   "metadata": {},
   "source": [
    "0. Import libraries and data\n",
    "1. Data processing\n",
    "2. Clustering\n",
    "3. Analysis of cluster with most bias\n",
    "4. Analysis of all identifief clusters"
   ]
  },
  {
   "cell_type": "markdown",
   "metadata": {},
   "source": [
    "## 0. Import libraries and data"
   ]
  },
  {
   "cell_type": "code",
   "execution_count": 1,
   "metadata": {
    "is_executing": true
   },
   "outputs": [],
   "source": [
    "import warnings\n",
    "import pandas as pd\n",
    "import numpy as np\n",
    "import matplotlib.pyplot as plt\n",
    "from unsupervised_bias_detection.clustering import BiasAwareHierarchicalKModes\n",
    "warnings.filterwarnings('ignore')"
   ]
  },
  {
   "cell_type": "code",
   "execution_count": 2,
   "metadata": {
    "ExecuteTime": {
     "end_time": "2024-05-25T17:31:37.271915Z",
     "start_time": "2024-05-25T17:31:36.688460Z"
    }
   },
   "outputs": [
    {
     "data": {
      "text/html": [
       "<div>\n",
       "<style scoped>\n",
       "    .dataframe tbody tr th:only-of-type {\n",
       "        vertical-align: middle;\n",
       "    }\n",
       "\n",
       "    .dataframe tbody tr th {\n",
       "        vertical-align: top;\n",
       "    }\n",
       "\n",
       "    .dataframe thead th {\n",
       "        text-align: right;\n",
       "    }\n",
       "</style>\n",
       "<table border=\"1\" class=\"dataframe\">\n",
       "  <thead>\n",
       "    <tr style=\"text-align: right;\">\n",
       "      <th></th>\n",
       "      <th>Education</th>\n",
       "      <th>Age</th>\n",
       "      <th>Distance</th>\n",
       "      <th>Risk category</th>\n",
       "      <th>Outcome house visit</th>\n",
       "      <th>Outcome appeal</th>\n",
       "    </tr>\n",
       "  </thead>\n",
       "  <tbody>\n",
       "    <tr>\n",
       "      <th>0</th>\n",
       "      <td>MBO 3-4</td>\n",
       "      <td>19-20</td>\n",
       "      <td>5-10km</td>\n",
       "      <td>5</td>\n",
       "      <td>Not available</td>\n",
       "      <td>NaN</td>\n",
       "    </tr>\n",
       "    <tr>\n",
       "      <th>1</th>\n",
       "      <td>WO</td>\n",
       "      <td>25-50</td>\n",
       "      <td>50-500km</td>\n",
       "      <td>4</td>\n",
       "      <td>Not available</td>\n",
       "      <td>NaN</td>\n",
       "    </tr>\n",
       "    <tr>\n",
       "      <th>2</th>\n",
       "      <td>MBO 3-4</td>\n",
       "      <td>19-20</td>\n",
       "      <td>50-500km</td>\n",
       "      <td>5</td>\n",
       "      <td>Not available</td>\n",
       "      <td>NaN</td>\n",
       "    </tr>\n",
       "    <tr>\n",
       "      <th>3</th>\n",
       "      <td>WO</td>\n",
       "      <td>21-22</td>\n",
       "      <td>20-50km</td>\n",
       "      <td>6</td>\n",
       "      <td>Not available</td>\n",
       "      <td>NaN</td>\n",
       "    </tr>\n",
       "    <tr>\n",
       "      <th>4</th>\n",
       "      <td>WO</td>\n",
       "      <td>19-20</td>\n",
       "      <td>50-500km</td>\n",
       "      <td>2</td>\n",
       "      <td>Not available</td>\n",
       "      <td>NaN</td>\n",
       "    </tr>\n",
       "  </tbody>\n",
       "</table>\n",
       "</div>"
      ],
      "text/plain": [
       "  Education    Age  Distance  Risk category Outcome house visit Outcome appeal\n",
       "0   MBO 3-4  19-20    5-10km              5       Not available            NaN\n",
       "1        WO  25-50  50-500km              4       Not available            NaN\n",
       "2   MBO 3-4  19-20  50-500km              5       Not available            NaN\n",
       "3        WO  21-22   20-50km              6       Not available            NaN\n",
       "4        WO  19-20  50-500km              2       Not available            NaN"
      ]
     },
     "execution_count": 2,
     "metadata": {},
     "output_type": "execute_result"
    }
   ],
   "source": [
    "# Load data\n",
    "df = pd.read_csv('../data/Table1_SD_20k.csv', sep=\",\", index_col='Unnamed: 0')\n",
    "df.head()"
   ]
  },
  {
   "cell_type": "code",
   "execution_count": 3,
   "metadata": {},
   "outputs": [
    {
     "data": {
      "text/plain": [
       "(20000, 6)"
      ]
     },
     "execution_count": 3,
     "metadata": {},
     "output_type": "execute_result"
    }
   ],
   "source": [
    "df.shape"
   ]
  },
  {
   "cell_type": "markdown",
   "metadata": {},
   "source": [
    "## 1. Data processing"
   ]
  },
  {
   "cell_type": "code",
   "execution_count": 4,
   "metadata": {},
   "outputs": [],
   "source": [
    "# mapping high risk categories to 0 (more bias) and low risk categories to 1 (less bias)\n",
    "# mapping = {6:0, 5:0, 4:1, 3:1, 2:1, 1:1}\n",
    "mapping = {6:1, 5:1, 4:0, 3:0, 2:0, 1:0}\n",
    "df['Risk category'] = df['Risk category'].map(mapping)"
   ]
  },
  {
   "cell_type": "code",
   "execution_count": 5,
   "metadata": {},
   "outputs": [],
   "source": [
    "# # encode columns values to numerical values\n",
    "# le1, le2, le3 = LabelEncoder(), LabelEncoder(), LabelEncoder()\n",
    "# df['Education'] = le1.fit_transform(df['Education'])\n",
    "# df['Age'] = le2.fit_transform(df['Age'])\n",
    "# df['Distance'] = le3.fit_transform(df['Distance'])"
   ]
  },
  {
   "cell_type": "code",
   "execution_count": 6,
   "metadata": {},
   "outputs": [
    {
     "data": {
      "text/html": [
       "<div>\n",
       "<style scoped>\n",
       "    .dataframe tbody tr th:only-of-type {\n",
       "        vertical-align: middle;\n",
       "    }\n",
       "\n",
       "    .dataframe tbody tr th {\n",
       "        vertical-align: top;\n",
       "    }\n",
       "\n",
       "    .dataframe thead th {\n",
       "        text-align: right;\n",
       "    }\n",
       "</style>\n",
       "<table border=\"1\" class=\"dataframe\">\n",
       "  <thead>\n",
       "    <tr style=\"text-align: right;\">\n",
       "      <th></th>\n",
       "      <th>Education</th>\n",
       "      <th>Age</th>\n",
       "      <th>Distance</th>\n",
       "      <th>Risk category</th>\n",
       "      <th>Outcome house visit</th>\n",
       "      <th>Outcome appeal</th>\n",
       "    </tr>\n",
       "  </thead>\n",
       "  <tbody>\n",
       "    <tr>\n",
       "      <th>0</th>\n",
       "      <td>MBO 3-4</td>\n",
       "      <td>19-20</td>\n",
       "      <td>5-10km</td>\n",
       "      <td>1</td>\n",
       "      <td>Not available</td>\n",
       "      <td>NaN</td>\n",
       "    </tr>\n",
       "    <tr>\n",
       "      <th>1</th>\n",
       "      <td>WO</td>\n",
       "      <td>25-50</td>\n",
       "      <td>50-500km</td>\n",
       "      <td>0</td>\n",
       "      <td>Not available</td>\n",
       "      <td>NaN</td>\n",
       "    </tr>\n",
       "    <tr>\n",
       "      <th>2</th>\n",
       "      <td>MBO 3-4</td>\n",
       "      <td>19-20</td>\n",
       "      <td>50-500km</td>\n",
       "      <td>1</td>\n",
       "      <td>Not available</td>\n",
       "      <td>NaN</td>\n",
       "    </tr>\n",
       "    <tr>\n",
       "      <th>3</th>\n",
       "      <td>WO</td>\n",
       "      <td>21-22</td>\n",
       "      <td>20-50km</td>\n",
       "      <td>1</td>\n",
       "      <td>Not available</td>\n",
       "      <td>NaN</td>\n",
       "    </tr>\n",
       "    <tr>\n",
       "      <th>4</th>\n",
       "      <td>WO</td>\n",
       "      <td>19-20</td>\n",
       "      <td>50-500km</td>\n",
       "      <td>0</td>\n",
       "      <td>Not available</td>\n",
       "      <td>NaN</td>\n",
       "    </tr>\n",
       "  </tbody>\n",
       "</table>\n",
       "</div>"
      ],
      "text/plain": [
       "  Education    Age  Distance  Risk category Outcome house visit Outcome appeal\n",
       "0   MBO 3-4  19-20    5-10km              1       Not available            NaN\n",
       "1        WO  25-50  50-500km              0       Not available            NaN\n",
       "2   MBO 3-4  19-20  50-500km              1       Not available            NaN\n",
       "3        WO  21-22   20-50km              1       Not available            NaN\n",
       "4        WO  19-20  50-500km              0       Not available            NaN"
      ]
     },
     "execution_count": 6,
     "metadata": {},
     "output_type": "execute_result"
    }
   ],
   "source": [
    "df.head()"
   ]
  },
  {
   "cell_type": "markdown",
   "metadata": {},
   "source": [
    "## 2. Clustering"
   ]
  },
  {
   "cell_type": "code",
   "execution_count": 7,
   "metadata": {},
   "outputs": [],
   "source": [
    "features=['Education','Age','Distance']\n",
    "X = df[features]\n",
    "y = df['Risk category']\n",
    "n_iter=20\n",
    "min_cluster_size=750\n",
    "hbac = BiasAwareHierarchicalKModes(n_iter=n_iter, min_cluster_size=min_cluster_size).fit(X, y)"
   ]
  },
  {
   "cell_type": "code",
   "execution_count": 8,
   "metadata": {},
   "outputs": [
    {
     "name": "stdout",
     "output_type": "stream",
     "text": [
      "Parameters selected\n",
      "Number of iterations: 20\n",
      "Minimal cluster size: 750\n"
     ]
    }
   ],
   "source": [
    "# text\n",
    "print(f'Parameters selected\\nNumber of iterations: {n_iter}\\nMinimal cluster size: {min_cluster_size}')"
   ]
  },
  {
   "cell_type": "code",
   "execution_count": 9,
   "metadata": {},
   "outputs": [
    {
     "data": {
      "text/plain": [
       "7"
      ]
     },
     "execution_count": 9,
     "metadata": {},
     "output_type": "execute_result"
    }
   ],
   "source": [
    "hbac.n_clusters_"
   ]
  },
  {
   "cell_type": "code",
   "execution_count": 10,
   "metadata": {},
   "outputs": [
    {
     "name": "stdout",
     "output_type": "stream",
     "text": [
      "Number of clusters found: 7\n"
     ]
    }
   ],
   "source": [
    "# text\n",
    "print(f'Number of clusters found: {hbac.n_clusters_}')"
   ]
  },
  {
   "cell_type": "code",
   "execution_count": 11,
   "metadata": {},
   "outputs": [
    {
     "data": {
      "text/plain": [
       "array([ 0.0597777 ,  0.0364168 ,  0.02072472,  0.00587807, -0.00048727,\n",
       "       -0.01217349, -0.02518748])"
      ]
     },
     "execution_count": 11,
     "metadata": {},
     "output_type": "execute_result"
    }
   ],
   "source": [
    "hbac.scores_"
   ]
  },
  {
   "cell_type": "code",
   "execution_count": 12,
   "metadata": {},
   "outputs": [],
   "source": [
    "# cluster with most bias has label 0\n",
    "df_most_biased_cluster = df[hbac.labels_ == 0]\n",
    "df_other = df[hbac.labels_ != 0]"
   ]
  },
  {
   "cell_type": "code",
   "execution_count": 13,
   "metadata": {},
   "outputs": [
    {
     "name": "stdout",
     "output_type": "stream",
     "text": [
      "Cluster with most bias consists of 939 datapoints. The uploaded dataset consists of 20000 datapoints.\n"
     ]
    }
   ],
   "source": [
    "# text \n",
    "print(f'Cluster with most bias consists of {len(df_most_biased_cluster)} datapoints. The uploaded dataset consists of {df.shape[0]} datapoints.')"
   ]
  },
  {
   "cell_type": "markdown",
   "metadata": {},
   "source": [
    "## 3. Analysis of cluster with most bias"
   ]
  },
  {
   "cell_type": "code",
   "execution_count": 14,
   "metadata": {},
   "outputs": [],
   "source": [
    "# # Invert numerical labels back to original categorical labels\n",
    "# df['Education'] = le1.inverse_transform(df['Education'])\n",
    "# df['Age'] = le2.inverse_transform(df['Age'])\n",
    "# df['Distance'] = le3.inverse_transform(df['Distance'])"
   ]
  },
  {
   "cell_type": "code",
   "execution_count": 15,
   "metadata": {},
   "outputs": [],
   "source": [
    "def stat_df_cat(df1, df2, features):\n",
    "    '''\n",
    "    For categorical data only: Takes dataframe of cluster \n",
    "    with highest bias and dataframe of the rest of the \n",
    "    datasets and computes differencye in frequency, should \n",
    "    return 95% confidence intervals in the future.\n",
    "    '''   \n",
    "\n",
    "    # initialize dictionaries\n",
    "    diff_dict = {}\n",
    "    # CI_dict_left = {}\n",
    "    # CI_dict_right = {}\n",
    "\n",
    "    # range through features\n",
    "    for feat in features:\n",
    "        df1_feat = df1[feat].value_counts()\n",
    "        df2_feat = df2[feat].value_counts()\n",
    "\n",
    "        # merge dfs on the feat column\n",
    "        merged_df = pd.merge(df1_feat, df2_feat, on=feat, suffixes=('_df1', '_df2'))\n",
    "        merged_df['diff'] = merged_df['count_df1']-merged_df['count_df2']\n",
    "        diff_dict[feat] = merged_df['diff'].to_dict()\n",
    "        \n",
    "    # store results in dataframe\n",
    "    pd.set_option('display.float_format', lambda x: '%.5f' % x)\n",
    "    dataframes = [pd.DataFrame(data, index=['Difference']) for key, data in diff_dict.items()]\n",
    "    cluster_analysis_df = pd.concat(dataframes, axis=1).T\n",
    "    # cluster_analysis_df = pd.DataFrame([diff_dict['Education'], chi2_dict, CI_dict_left, CI_dict_right]).T\n",
    "    # cluster_analysis_df = cluster_analysis_df.sort_values('p-value',ascending=[True])\n",
    "    # n_rows = cluster_analysis_df.shape[0]\n",
    "\n",
    "    # # Get errors; (coef - lower bound of conf interval)\n",
    "    # cluster_analysis_df['errors'] = cluster_analysis_df['difference'] - cluster_analysis_df['[0.025']\n",
    "    # cluster_analysis_df = cluster_analysis_df.iloc[0:n_rows,]\n",
    "    # cluster_analysis_df['num'] = [int(i) for i in np.linspace(n_rows-1,0,n_rows)]\n",
    "\n",
    "    # cluster_analysis_df = cluster_analysis_df.reset_index()\n",
    "    \n",
    "    # return(cluster_analysis_df)\n",
    "    return(cluster_analysis_df)\n",
    "    # return(diff_dict, chi2_dict, cramer_dict, CI_dict_left, CI_dict_right)"
   ]
  },
  {
   "cell_type": "code",
   "execution_count": 16,
   "metadata": {},
   "outputs": [
    {
     "data": {
      "text/html": [
       "<div>\n",
       "<style scoped>\n",
       "    .dataframe tbody tr th:only-of-type {\n",
       "        vertical-align: middle;\n",
       "    }\n",
       "\n",
       "    .dataframe tbody tr th {\n",
       "        vertical-align: top;\n",
       "    }\n",
       "\n",
       "    .dataframe thead th {\n",
       "        text-align: right;\n",
       "    }\n",
       "</style>\n",
       "<table border=\"1\" class=\"dataframe\">\n",
       "  <thead>\n",
       "    <tr style=\"text-align: right;\">\n",
       "      <th></th>\n",
       "      <th>Difference</th>\n",
       "    </tr>\n",
       "  </thead>\n",
       "  <tbody>\n",
       "    <tr>\n",
       "      <th>HBO</th>\n",
       "      <td>-6715</td>\n",
       "    </tr>\n",
       "    <tr>\n",
       "      <th>23-24</th>\n",
       "      <td>-2088</td>\n",
       "    </tr>\n",
       "    <tr>\n",
       "      <th>25-50</th>\n",
       "      <td>-1794</td>\n",
       "    </tr>\n",
       "    <tr>\n",
       "      <th>15-18</th>\n",
       "      <td>-1268</td>\n",
       "    </tr>\n",
       "    <tr>\n",
       "      <th>20-50km</th>\n",
       "      <td>-2539</td>\n",
       "    </tr>\n",
       "    <tr>\n",
       "      <th>2-5km</th>\n",
       "      <td>-1382</td>\n",
       "    </tr>\n",
       "    <tr>\n",
       "      <th>10-20km</th>\n",
       "      <td>-1388</td>\n",
       "    </tr>\n",
       "    <tr>\n",
       "      <th>5-10km</th>\n",
       "      <td>-1143</td>\n",
       "    </tr>\n",
       "    <tr>\n",
       "      <th>1-2km</th>\n",
       "      <td>-789</td>\n",
       "    </tr>\n",
       "    <tr>\n",
       "      <th>1m-1km</th>\n",
       "      <td>-665</td>\n",
       "    </tr>\n",
       "    <tr>\n",
       "      <th>0km</th>\n",
       "      <td>-315</td>\n",
       "    </tr>\n",
       "  </tbody>\n",
       "</table>\n",
       "</div>"
      ],
      "text/plain": [
       "         Difference\n",
       "HBO           -6715\n",
       "23-24         -2088\n",
       "25-50         -1794\n",
       "15-18         -1268\n",
       "20-50km       -2539\n",
       "2-5km         -1382\n",
       "10-20km       -1388\n",
       "5-10km        -1143\n",
       "1-2km          -789\n",
       "1m-1km         -665\n",
       "0km            -315"
      ]
     },
     "execution_count": 16,
     "metadata": {},
     "output_type": "execute_result"
    }
   ],
   "source": [
    "diff_df = stat_df_cat(df_most_biased_cluster,df_other,features=features)\n",
    "diff_df"
   ]
  },
  {
   "cell_type": "code",
   "execution_count": 17,
   "metadata": {},
   "outputs": [
    {
     "data": {
      "text/plain": [
       "Text(0, 0.5, 'Feature')"
      ]
     },
     "execution_count": 17,
     "metadata": {},
     "output_type": "execute_result"
    },
    {
     "data": {
      "image/png": "[encoded data removed]",
      "text/plain": [
       "<Figure size 1000x700 with 1 Axes>"
      ]
     },
     "metadata": {},
     "output_type": "display_data"
    }
   ],
   "source": [
    "# Create the scatter plot\n",
    "fig, ax = plt.subplots(figsize=(10, 7))\n",
    "ax.scatter(diff_df['Difference'], diff_df.index)\n",
    "\n",
    "# Line to define zero on the x-axis\n",
    "ax.axvline(x=0, linestyle='--', color='black', linewidth=1)\n",
    "\n",
    "# Adding title and labels\n",
    "plt.title('Cluster difference (most biased cluster vs rest of dataset)')\n",
    "plt.xlabel('Difference in frequency\\n(bias with most bias - rest of dataset)')\n",
    "plt.ylabel('Feature')"
   ]
  },
  {
   "cell_type": "code",
   "execution_count": 32,
   "metadata": {},
   "outputs": [
    {
     "name": "stdout",
     "output_type": "stream",
     "text": [
      "In the most biased cluster there are:\n",
      "6715 less HBO than in the rest of the dataset.\n",
      "2088 less 23-24 than in the rest of the dataset.\n",
      "1794 less 25-50 than in the rest of the dataset.\n",
      "1268 less 15-18 than in the rest of the dataset.\n",
      "2539 less 20-50km than in the rest of the dataset.\n",
      "1382 less 2-5km than in the rest of the dataset.\n",
      "1388 less 10-20km than in the rest of the dataset.\n",
      "1143 less 5-10km than in the rest of the dataset.\n",
      "789 less 1-2km than in the rest of the dataset.\n",
      "665 less 1m-1km than in the rest of the dataset.\n",
      "315 less 0km than in the rest of the dataset.\n"
     ]
    }
   ],
   "source": [
    "# text \n",
    "print('In the most biased cluster there are:')\n",
    "for feat in diff_df.index:\n",
    "    diff = diff_df.loc[feat,\"Difference\"]\n",
    "    if diff < 0:\n",
    "        print(f'{abs(diff)} less {feat} than in the rest of the dataset.')\n",
    "    elif diff > 0:\n",
    "        print(f'{diff} more {feat} than in the rest of the dataset.')\n",
    "    elif diff == 0:\n",
    "        print(f'equal {feat} as in the rest of the dataset.')"
   ]
  },
  {
   "cell_type": "markdown",
   "metadata": {},
   "source": [
    "## 4. Analysis of all identified clusters"
   ]
  },
  {
   "cell_type": "code",
   "execution_count": 33,
   "metadata": {},
   "outputs": [],
   "source": [
    "df_cluster1 = df[hbac.labels_ == 1]\n",
    "df_cluster2 = df[hbac.labels_ == 2]\n",
    "df_cluster3 = df[hbac.labels_ == 3]\n",
    "df_cluster4 = df[hbac.labels_ == 4]\n",
    "\n",
    "df_most_biased_cluster['Cluster'] = '0'\n",
    "df_cluster1['Cluster'] = '1'\n",
    "df_cluster2['Cluster'] = '2'\n",
    "df_cluster3['Cluster'] = '3'\n",
    "df_cluster4['Cluster'] = '4'"
   ]
  },
  {
   "cell_type": "code",
   "execution_count": 34,
   "metadata": {},
   "outputs": [
    {
     "data": {
      "text/html": [
       "<div>\n",
       "<style scoped>\n",
       "    .dataframe tbody tr th:only-of-type {\n",
       "        vertical-align: middle;\n",
       "    }\n",
       "\n",
       "    .dataframe tbody tr th {\n",
       "        vertical-align: top;\n",
       "    }\n",
       "\n",
       "    .dataframe thead th {\n",
       "        text-align: right;\n",
       "    }\n",
       "</style>\n",
       "<table border=\"1\" class=\"dataframe\">\n",
       "  <thead>\n",
       "    <tr style=\"text-align: right;\">\n",
       "      <th></th>\n",
       "      <th>Education</th>\n",
       "      <th>Age</th>\n",
       "      <th>Distance</th>\n",
       "      <th>Risk category</th>\n",
       "      <th>Outcome house visit</th>\n",
       "      <th>Outcome appeal</th>\n",
       "      <th>Cluster</th>\n",
       "    </tr>\n",
       "  </thead>\n",
       "  <tbody>\n",
       "    <tr>\n",
       "      <th>0</th>\n",
       "      <td>HBO</td>\n",
       "      <td>23-24</td>\n",
       "      <td>10-20km</td>\n",
       "      <td>0</td>\n",
       "      <td>Not available</td>\n",
       "      <td>NaN</td>\n",
       "      <td>0</td>\n",
       "    </tr>\n",
       "    <tr>\n",
       "      <th>1</th>\n",
       "      <td>HBO</td>\n",
       "      <td>23-24</td>\n",
       "      <td>1-2km</td>\n",
       "      <td>1</td>\n",
       "      <td>Not available</td>\n",
       "      <td>NaN</td>\n",
       "      <td>0</td>\n",
       "    </tr>\n",
       "    <tr>\n",
       "      <th>2</th>\n",
       "      <td>HBO</td>\n",
       "      <td>23-24</td>\n",
       "      <td>20-50km</td>\n",
       "      <td>0</td>\n",
       "      <td>Not available</td>\n",
       "      <td>NaN</td>\n",
       "      <td>0</td>\n",
       "    </tr>\n",
       "    <tr>\n",
       "      <th>3</th>\n",
       "      <td>HBO</td>\n",
       "      <td>23-24</td>\n",
       "      <td>10-20km</td>\n",
       "      <td>0</td>\n",
       "      <td>Not available</td>\n",
       "      <td>NaN</td>\n",
       "      <td>0</td>\n",
       "    </tr>\n",
       "    <tr>\n",
       "      <th>4</th>\n",
       "      <td>HBO</td>\n",
       "      <td>23-24</td>\n",
       "      <td>2-5km</td>\n",
       "      <td>0</td>\n",
       "      <td>Not available</td>\n",
       "      <td>NaN</td>\n",
       "      <td>0</td>\n",
       "    </tr>\n",
       "  </tbody>\n",
       "</table>\n",
       "</div>"
      ],
      "text/plain": [
       "  Education    Age Distance  Risk category Outcome house visit Outcome appeal   \n",
       "0       HBO  23-24  10-20km              0       Not available            NaN  \\\n",
       "1       HBO  23-24    1-2km              1       Not available            NaN   \n",
       "2       HBO  23-24  20-50km              0       Not available            NaN   \n",
       "3       HBO  23-24  10-20km              0       Not available            NaN   \n",
       "4       HBO  23-24    2-5km              0       Not available            NaN   \n",
       "\n",
       "  Cluster  \n",
       "0       0  \n",
       "1       0  \n",
       "2       0  \n",
       "3       0  \n",
       "4       0  "
      ]
     },
     "execution_count": 34,
     "metadata": {},
     "output_type": "execute_result"
    }
   ],
   "source": [
    "full_df = pd.concat([df_most_biased_cluster, df_cluster1, df_cluster2, df_cluster3, df_cluster4], ignore_index=True)\n",
    "full_df.head()"
   ]
  },
  {
   "cell_type": "code",
   "execution_count": 35,
   "metadata": {},
   "outputs": [
    {
     "data": {
      "text/plain": [
       "0.46112886048988283"
      ]
     },
     "execution_count": 35,
     "metadata": {},
     "output_type": "execute_result"
    }
   ],
   "source": [
    "# 47% of the cases has risk label 1\n",
    "df_most_biased_cluster['Risk category'].mean()"
   ]
  },
  {
   "cell_type": "code",
   "execution_count": 21,
   "metadata": {},
   "outputs": [
    {
     "data": {
      "text/plain": [
       "<Axes: ylabel='Cluster'>"
      ]
     },
     "execution_count": 21,
     "metadata": {},
     "output_type": "execute_result"
    },
    {
     "data": {
      "image/png": "[encoded data removed]",
      "text/plain": [
       "<Figure size 640x480 with 1 Axes>"
      ]
     },
     "metadata": {},
     "output_type": "display_data"
    }
   ],
   "source": [
    "full_df.groupby('Cluster')['Education'].value_counts().unstack().plot.barh()"
   ]
  },
  {
   "cell_type": "code",
   "execution_count": 22,
   "metadata": {},
   "outputs": [
    {
     "data": {
      "text/plain": [
       "<Axes: ylabel='Cluster'>"
      ]
     },
     "execution_count": 22,
     "metadata": {},
     "output_type": "execute_result"
    },
    {
     "data": {
      "image/png": "[encoded data removed]",
      "text/plain": [
       "<Figure size 640x480 with 1 Axes>"
      ]
     },
     "metadata": {},
     "output_type": "display_data"
    }
   ],
   "source": [
    "full_df.groupby('Cluster')['Age'].value_counts().unstack().plot.barh()"
   ]
  },
  {
   "cell_type": "code",
   "execution_count": 23,
   "metadata": {},
   "outputs": [
    {
     "data": {
      "text/plain": [
       "<Axes: ylabel='Cluster'>"
      ]
     },
     "execution_count": 23,
     "metadata": {},
     "output_type": "execute_result"
    },
    {
     "data": {
      "image/png": "[encoded data removed]",
      "text/plain": [
       "<Figure size 640x480 with 1 Axes>"
      ]
     },
     "metadata": {},
     "output_type": "display_data"
    }
   ],
   "source": [
    "full_df.groupby('Cluster')['Distance'].value_counts().unstack().plot.barh()"
   ]
  }
 ],
 "metadata": {
  "kernelspec": {
   "display_name": "Python 3 (ipykernel)",
   "language": "python",
   "name": "python3"
  },
  "language_info": {
   "codemirror_mode": {
    "name": "ipython",
    "version": 3
   },
   "file_extension": ".py",
   "mimetype": "text/x-python",
   "name": "python",
   "nbconvert_exporter": "python",
   "pygments_lexer": "ipython3",
   "version": "3.11.9"
  }
 },
 "nbformat": 4,
 "nbformat_minor": 4
}
